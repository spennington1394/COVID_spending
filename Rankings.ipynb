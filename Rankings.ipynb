{
 "cells": [
  {
   "cell_type": "code",
   "execution_count": 1,
   "metadata": {},
   "outputs": [],
   "source": [
    "#import dependancies\n",
    "import pandas as pd\n",
    "import matplotlib.pyplot as plt\n",
    "import numpy as np\n",
    "from scipy.stats import linregress\n",
    "import scipy.stats as st"
   ]
  },
  {
   "cell_type": "code",
   "execution_count": 2,
   "metadata": {},
   "outputs": [
    {
     "data": {
      "text/html": [
       "<div>\n",
       "<style scoped>\n",
       "    .dataframe tbody tr th:only-of-type {\n",
       "        vertical-align: middle;\n",
       "    }\n",
       "\n",
       "    .dataframe tbody tr th {\n",
       "        vertical-align: top;\n",
       "    }\n",
       "\n",
       "    .dataframe thead th {\n",
       "        text-align: right;\n",
       "    }\n",
       "</style>\n",
       "<table border=\"1\" class=\"dataframe\">\n",
       "  <thead>\n",
       "    <tr style=\"text-align: right;\">\n",
       "      <th></th>\n",
       "      <th>CountryName</th>\n",
       "      <th>CountryCode</th>\n",
       "      <th>RegionName</th>\n",
       "      <th>RegionCode</th>\n",
       "      <th>Date</th>\n",
       "      <th>C1_School closing</th>\n",
       "      <th>C1_Flag</th>\n",
       "      <th>C2_Workplace closing</th>\n",
       "      <th>C2_Flag</th>\n",
       "      <th>C3_Cancel public events</th>\n",
       "      <th>...</th>\n",
       "      <th>StringencyIndex</th>\n",
       "      <th>StringencyIndexForDisplay</th>\n",
       "      <th>StringencyLegacyIndex</th>\n",
       "      <th>StringencyLegacyIndexForDisplay</th>\n",
       "      <th>GovernmentResponseIndex</th>\n",
       "      <th>GovernmentResponseIndexForDisplay</th>\n",
       "      <th>ContainmentHealthIndex</th>\n",
       "      <th>ContainmentHealthIndexForDisplay</th>\n",
       "      <th>EconomicSupportIndex</th>\n",
       "      <th>EconomicSupportIndexForDisplay</th>\n",
       "    </tr>\n",
       "  </thead>\n",
       "  <tbody>\n",
       "    <tr>\n",
       "      <th>0</th>\n",
       "      <td>Aruba</td>\n",
       "      <td>ABW</td>\n",
       "      <td>NaN</td>\n",
       "      <td>NaN</td>\n",
       "      <td>20200101</td>\n",
       "      <td>0.0</td>\n",
       "      <td>NaN</td>\n",
       "      <td>0.0</td>\n",
       "      <td>NaN</td>\n",
       "      <td>0.0</td>\n",
       "      <td>...</td>\n",
       "      <td>0.0</td>\n",
       "      <td>0.0</td>\n",
       "      <td>0.0</td>\n",
       "      <td>0.0</td>\n",
       "      <td>0.0</td>\n",
       "      <td>0.0</td>\n",
       "      <td>0.0</td>\n",
       "      <td>0.0</td>\n",
       "      <td>0.0</td>\n",
       "      <td>0.0</td>\n",
       "    </tr>\n",
       "    <tr>\n",
       "      <th>1</th>\n",
       "      <td>Aruba</td>\n",
       "      <td>ABW</td>\n",
       "      <td>NaN</td>\n",
       "      <td>NaN</td>\n",
       "      <td>20200102</td>\n",
       "      <td>0.0</td>\n",
       "      <td>NaN</td>\n",
       "      <td>0.0</td>\n",
       "      <td>NaN</td>\n",
       "      <td>0.0</td>\n",
       "      <td>...</td>\n",
       "      <td>0.0</td>\n",
       "      <td>0.0</td>\n",
       "      <td>0.0</td>\n",
       "      <td>0.0</td>\n",
       "      <td>0.0</td>\n",
       "      <td>0.0</td>\n",
       "      <td>0.0</td>\n",
       "      <td>0.0</td>\n",
       "      <td>0.0</td>\n",
       "      <td>0.0</td>\n",
       "    </tr>\n",
       "    <tr>\n",
       "      <th>2</th>\n",
       "      <td>Aruba</td>\n",
       "      <td>ABW</td>\n",
       "      <td>NaN</td>\n",
       "      <td>NaN</td>\n",
       "      <td>20200103</td>\n",
       "      <td>0.0</td>\n",
       "      <td>NaN</td>\n",
       "      <td>0.0</td>\n",
       "      <td>NaN</td>\n",
       "      <td>0.0</td>\n",
       "      <td>...</td>\n",
       "      <td>0.0</td>\n",
       "      <td>0.0</td>\n",
       "      <td>0.0</td>\n",
       "      <td>0.0</td>\n",
       "      <td>0.0</td>\n",
       "      <td>0.0</td>\n",
       "      <td>0.0</td>\n",
       "      <td>0.0</td>\n",
       "      <td>0.0</td>\n",
       "      <td>0.0</td>\n",
       "    </tr>\n",
       "    <tr>\n",
       "      <th>3</th>\n",
       "      <td>Aruba</td>\n",
       "      <td>ABW</td>\n",
       "      <td>NaN</td>\n",
       "      <td>NaN</td>\n",
       "      <td>20200104</td>\n",
       "      <td>0.0</td>\n",
       "      <td>NaN</td>\n",
       "      <td>0.0</td>\n",
       "      <td>NaN</td>\n",
       "      <td>0.0</td>\n",
       "      <td>...</td>\n",
       "      <td>0.0</td>\n",
       "      <td>0.0</td>\n",
       "      <td>0.0</td>\n",
       "      <td>0.0</td>\n",
       "      <td>0.0</td>\n",
       "      <td>0.0</td>\n",
       "      <td>0.0</td>\n",
       "      <td>0.0</td>\n",
       "      <td>0.0</td>\n",
       "      <td>0.0</td>\n",
       "    </tr>\n",
       "    <tr>\n",
       "      <th>4</th>\n",
       "      <td>Aruba</td>\n",
       "      <td>ABW</td>\n",
       "      <td>NaN</td>\n",
       "      <td>NaN</td>\n",
       "      <td>20200105</td>\n",
       "      <td>0.0</td>\n",
       "      <td>NaN</td>\n",
       "      <td>0.0</td>\n",
       "      <td>NaN</td>\n",
       "      <td>0.0</td>\n",
       "      <td>...</td>\n",
       "      <td>0.0</td>\n",
       "      <td>0.0</td>\n",
       "      <td>0.0</td>\n",
       "      <td>0.0</td>\n",
       "      <td>0.0</td>\n",
       "      <td>0.0</td>\n",
       "      <td>0.0</td>\n",
       "      <td>0.0</td>\n",
       "      <td>0.0</td>\n",
       "      <td>0.0</td>\n",
       "    </tr>\n",
       "  </tbody>\n",
       "</table>\n",
       "<p>5 rows × 46 columns</p>\n",
       "</div>"
      ],
      "text/plain": [
       "  CountryName CountryCode RegionName RegionCode      Date  C1_School closing  \\\n",
       "0       Aruba         ABW        NaN        NaN  20200101                0.0   \n",
       "1       Aruba         ABW        NaN        NaN  20200102                0.0   \n",
       "2       Aruba         ABW        NaN        NaN  20200103                0.0   \n",
       "3       Aruba         ABW        NaN        NaN  20200104                0.0   \n",
       "4       Aruba         ABW        NaN        NaN  20200105                0.0   \n",
       "\n",
       "   C1_Flag  C2_Workplace closing  C2_Flag  C3_Cancel public events  ...  \\\n",
       "0      NaN                   0.0      NaN                      0.0  ...   \n",
       "1      NaN                   0.0      NaN                      0.0  ...   \n",
       "2      NaN                   0.0      NaN                      0.0  ...   \n",
       "3      NaN                   0.0      NaN                      0.0  ...   \n",
       "4      NaN                   0.0      NaN                      0.0  ...   \n",
       "\n",
       "   StringencyIndex  StringencyIndexForDisplay  StringencyLegacyIndex  \\\n",
       "0              0.0                        0.0                    0.0   \n",
       "1              0.0                        0.0                    0.0   \n",
       "2              0.0                        0.0                    0.0   \n",
       "3              0.0                        0.0                    0.0   \n",
       "4              0.0                        0.0                    0.0   \n",
       "\n",
       "   StringencyLegacyIndexForDisplay  GovernmentResponseIndex  \\\n",
       "0                              0.0                      0.0   \n",
       "1                              0.0                      0.0   \n",
       "2                              0.0                      0.0   \n",
       "3                              0.0                      0.0   \n",
       "4                              0.0                      0.0   \n",
       "\n",
       "   GovernmentResponseIndexForDisplay  ContainmentHealthIndex  \\\n",
       "0                                0.0                     0.0   \n",
       "1                                0.0                     0.0   \n",
       "2                                0.0                     0.0   \n",
       "3                                0.0                     0.0   \n",
       "4                                0.0                     0.0   \n",
       "\n",
       "   ContainmentHealthIndexForDisplay  EconomicSupportIndex  \\\n",
       "0                               0.0                   0.0   \n",
       "1                               0.0                   0.0   \n",
       "2                               0.0                   0.0   \n",
       "3                               0.0                   0.0   \n",
       "4                               0.0                   0.0   \n",
       "\n",
       "   EconomicSupportIndexForDisplay  \n",
       "0                             0.0  \n",
       "1                             0.0  \n",
       "2                             0.0  \n",
       "3                             0.0  \n",
       "4                             0.0  \n",
       "\n",
       "[5 rows x 46 columns]"
      ]
     },
     "execution_count": 2,
     "metadata": {},
     "output_type": "execute_result"
    }
   ],
   "source": [
    "covid = pd.read_csv('/Users/kscomputer/Desktop/COVID/OxCGRT_latest.csv', low_memory=False)\n",
    "covid.head()"
   ]
  },
  {
   "cell_type": "code",
   "execution_count": 3,
   "metadata": {},
   "outputs": [
    {
     "data": {
      "text/html": [
       "<div>\n",
       "<style scoped>\n",
       "    .dataframe tbody tr th:only-of-type {\n",
       "        vertical-align: middle;\n",
       "    }\n",
       "\n",
       "    .dataframe tbody tr th {\n",
       "        vertical-align: top;\n",
       "    }\n",
       "\n",
       "    .dataframe thead th {\n",
       "        text-align: right;\n",
       "    }\n",
       "</style>\n",
       "<table border=\"1\" class=\"dataframe\">\n",
       "  <thead>\n",
       "    <tr style=\"text-align: right;\">\n",
       "      <th></th>\n",
       "      <th>CountryName</th>\n",
       "      <th>CountryCode</th>\n",
       "      <th>RegionName</th>\n",
       "      <th>RegionCode</th>\n",
       "      <th>Date</th>\n",
       "      <th>C1_School closing</th>\n",
       "      <th>C1_Flag</th>\n",
       "      <th>C2_Workplace closing</th>\n",
       "      <th>C2_Flag</th>\n",
       "      <th>C3_Cancel public events</th>\n",
       "      <th>...</th>\n",
       "      <th>StringencyIndex</th>\n",
       "      <th>StringencyIndexForDisplay</th>\n",
       "      <th>StringencyLegacyIndex</th>\n",
       "      <th>StringencyLegacyIndexForDisplay</th>\n",
       "      <th>GovernmentResponseIndex</th>\n",
       "      <th>GovernmentResponseIndexForDisplay</th>\n",
       "      <th>ContainmentHealthIndex</th>\n",
       "      <th>ContainmentHealthIndexForDisplay</th>\n",
       "      <th>EconomicSupportIndex</th>\n",
       "      <th>EconomicSupportIndexForDisplay</th>\n",
       "    </tr>\n",
       "  </thead>\n",
       "  <tbody>\n",
       "    <tr>\n",
       "      <th>0</th>\n",
       "      <td>Aruba</td>\n",
       "      <td>ABW</td>\n",
       "      <td>0</td>\n",
       "      <td>0</td>\n",
       "      <td>20200101</td>\n",
       "      <td>0.0</td>\n",
       "      <td>0.0</td>\n",
       "      <td>0.0</td>\n",
       "      <td>0.0</td>\n",
       "      <td>0.0</td>\n",
       "      <td>...</td>\n",
       "      <td>0.0</td>\n",
       "      <td>0.0</td>\n",
       "      <td>0.0</td>\n",
       "      <td>0.00</td>\n",
       "      <td>0.0</td>\n",
       "      <td>0.00</td>\n",
       "      <td>0.0</td>\n",
       "      <td>0.00</td>\n",
       "      <td>0.0</td>\n",
       "      <td>0.0</td>\n",
       "    </tr>\n",
       "    <tr>\n",
       "      <th>1</th>\n",
       "      <td>Aruba</td>\n",
       "      <td>ABW</td>\n",
       "      <td>0</td>\n",
       "      <td>0</td>\n",
       "      <td>20200102</td>\n",
       "      <td>0.0</td>\n",
       "      <td>0.0</td>\n",
       "      <td>0.0</td>\n",
       "      <td>0.0</td>\n",
       "      <td>0.0</td>\n",
       "      <td>...</td>\n",
       "      <td>0.0</td>\n",
       "      <td>0.0</td>\n",
       "      <td>0.0</td>\n",
       "      <td>0.00</td>\n",
       "      <td>0.0</td>\n",
       "      <td>0.00</td>\n",
       "      <td>0.0</td>\n",
       "      <td>0.00</td>\n",
       "      <td>0.0</td>\n",
       "      <td>0.0</td>\n",
       "    </tr>\n",
       "    <tr>\n",
       "      <th>2</th>\n",
       "      <td>Aruba</td>\n",
       "      <td>ABW</td>\n",
       "      <td>0</td>\n",
       "      <td>0</td>\n",
       "      <td>20200103</td>\n",
       "      <td>0.0</td>\n",
       "      <td>0.0</td>\n",
       "      <td>0.0</td>\n",
       "      <td>0.0</td>\n",
       "      <td>0.0</td>\n",
       "      <td>...</td>\n",
       "      <td>0.0</td>\n",
       "      <td>0.0</td>\n",
       "      <td>0.0</td>\n",
       "      <td>0.00</td>\n",
       "      <td>0.0</td>\n",
       "      <td>0.00</td>\n",
       "      <td>0.0</td>\n",
       "      <td>0.00</td>\n",
       "      <td>0.0</td>\n",
       "      <td>0.0</td>\n",
       "    </tr>\n",
       "    <tr>\n",
       "      <th>3</th>\n",
       "      <td>Aruba</td>\n",
       "      <td>ABW</td>\n",
       "      <td>0</td>\n",
       "      <td>0</td>\n",
       "      <td>20200104</td>\n",
       "      <td>0.0</td>\n",
       "      <td>0.0</td>\n",
       "      <td>0.0</td>\n",
       "      <td>0.0</td>\n",
       "      <td>0.0</td>\n",
       "      <td>...</td>\n",
       "      <td>0.0</td>\n",
       "      <td>0.0</td>\n",
       "      <td>0.0</td>\n",
       "      <td>0.00</td>\n",
       "      <td>0.0</td>\n",
       "      <td>0.00</td>\n",
       "      <td>0.0</td>\n",
       "      <td>0.00</td>\n",
       "      <td>0.0</td>\n",
       "      <td>0.0</td>\n",
       "    </tr>\n",
       "    <tr>\n",
       "      <th>4</th>\n",
       "      <td>Aruba</td>\n",
       "      <td>ABW</td>\n",
       "      <td>0</td>\n",
       "      <td>0</td>\n",
       "      <td>20200105</td>\n",
       "      <td>0.0</td>\n",
       "      <td>0.0</td>\n",
       "      <td>0.0</td>\n",
       "      <td>0.0</td>\n",
       "      <td>0.0</td>\n",
       "      <td>...</td>\n",
       "      <td>0.0</td>\n",
       "      <td>0.0</td>\n",
       "      <td>0.0</td>\n",
       "      <td>0.00</td>\n",
       "      <td>0.0</td>\n",
       "      <td>0.00</td>\n",
       "      <td>0.0</td>\n",
       "      <td>0.00</td>\n",
       "      <td>0.0</td>\n",
       "      <td>0.0</td>\n",
       "    </tr>\n",
       "    <tr>\n",
       "      <th>...</th>\n",
       "      <td>...</td>\n",
       "      <td>...</td>\n",
       "      <td>...</td>\n",
       "      <td>...</td>\n",
       "      <td>...</td>\n",
       "      <td>...</td>\n",
       "      <td>...</td>\n",
       "      <td>...</td>\n",
       "      <td>...</td>\n",
       "      <td>...</td>\n",
       "      <td>...</td>\n",
       "      <td>...</td>\n",
       "      <td>...</td>\n",
       "      <td>...</td>\n",
       "      <td>...</td>\n",
       "      <td>...</td>\n",
       "      <td>...</td>\n",
       "      <td>...</td>\n",
       "      <td>...</td>\n",
       "      <td>...</td>\n",
       "      <td>...</td>\n",
       "    </tr>\n",
       "    <tr>\n",
       "      <th>76054</th>\n",
       "      <td>Zimbabwe</td>\n",
       "      <td>ZWE</td>\n",
       "      <td>0</td>\n",
       "      <td>0</td>\n",
       "      <td>20201104</td>\n",
       "      <td>0.0</td>\n",
       "      <td>0.0</td>\n",
       "      <td>0.0</td>\n",
       "      <td>0.0</td>\n",
       "      <td>0.0</td>\n",
       "      <td>...</td>\n",
       "      <td>0.0</td>\n",
       "      <td>71.3</td>\n",
       "      <td>0.0</td>\n",
       "      <td>77.38</td>\n",
       "      <td>0.0</td>\n",
       "      <td>60.71</td>\n",
       "      <td>0.0</td>\n",
       "      <td>66.67</td>\n",
       "      <td>0.0</td>\n",
       "      <td>25.0</td>\n",
       "    </tr>\n",
       "    <tr>\n",
       "      <th>76055</th>\n",
       "      <td>Zimbabwe</td>\n",
       "      <td>ZWE</td>\n",
       "      <td>0</td>\n",
       "      <td>0</td>\n",
       "      <td>20201105</td>\n",
       "      <td>0.0</td>\n",
       "      <td>0.0</td>\n",
       "      <td>0.0</td>\n",
       "      <td>0.0</td>\n",
       "      <td>0.0</td>\n",
       "      <td>...</td>\n",
       "      <td>0.0</td>\n",
       "      <td>71.3</td>\n",
       "      <td>0.0</td>\n",
       "      <td>77.38</td>\n",
       "      <td>0.0</td>\n",
       "      <td>60.71</td>\n",
       "      <td>0.0</td>\n",
       "      <td>66.67</td>\n",
       "      <td>0.0</td>\n",
       "      <td>25.0</td>\n",
       "    </tr>\n",
       "    <tr>\n",
       "      <th>76056</th>\n",
       "      <td>Zimbabwe</td>\n",
       "      <td>ZWE</td>\n",
       "      <td>0</td>\n",
       "      <td>0</td>\n",
       "      <td>20201106</td>\n",
       "      <td>0.0</td>\n",
       "      <td>0.0</td>\n",
       "      <td>0.0</td>\n",
       "      <td>0.0</td>\n",
       "      <td>0.0</td>\n",
       "      <td>...</td>\n",
       "      <td>0.0</td>\n",
       "      <td>71.3</td>\n",
       "      <td>0.0</td>\n",
       "      <td>77.38</td>\n",
       "      <td>0.0</td>\n",
       "      <td>60.71</td>\n",
       "      <td>0.0</td>\n",
       "      <td>66.67</td>\n",
       "      <td>0.0</td>\n",
       "      <td>25.0</td>\n",
       "    </tr>\n",
       "    <tr>\n",
       "      <th>76057</th>\n",
       "      <td>Zimbabwe</td>\n",
       "      <td>ZWE</td>\n",
       "      <td>0</td>\n",
       "      <td>0</td>\n",
       "      <td>20201107</td>\n",
       "      <td>0.0</td>\n",
       "      <td>0.0</td>\n",
       "      <td>0.0</td>\n",
       "      <td>0.0</td>\n",
       "      <td>0.0</td>\n",
       "      <td>...</td>\n",
       "      <td>0.0</td>\n",
       "      <td>71.3</td>\n",
       "      <td>0.0</td>\n",
       "      <td>77.38</td>\n",
       "      <td>0.0</td>\n",
       "      <td>60.71</td>\n",
       "      <td>0.0</td>\n",
       "      <td>66.67</td>\n",
       "      <td>0.0</td>\n",
       "      <td>25.0</td>\n",
       "    </tr>\n",
       "    <tr>\n",
       "      <th>76058</th>\n",
       "      <td>Zimbabwe</td>\n",
       "      <td>ZWE</td>\n",
       "      <td>0</td>\n",
       "      <td>0</td>\n",
       "      <td>20201108</td>\n",
       "      <td>0.0</td>\n",
       "      <td>0.0</td>\n",
       "      <td>0.0</td>\n",
       "      <td>0.0</td>\n",
       "      <td>0.0</td>\n",
       "      <td>...</td>\n",
       "      <td>0.0</td>\n",
       "      <td>71.3</td>\n",
       "      <td>0.0</td>\n",
       "      <td>77.38</td>\n",
       "      <td>0.0</td>\n",
       "      <td>60.71</td>\n",
       "      <td>0.0</td>\n",
       "      <td>66.67</td>\n",
       "      <td>0.0</td>\n",
       "      <td>25.0</td>\n",
       "    </tr>\n",
       "  </tbody>\n",
       "</table>\n",
       "<p>76059 rows × 46 columns</p>\n",
       "</div>"
      ],
      "text/plain": [
       "      CountryName CountryCode RegionName RegionCode      Date  \\\n",
       "0           Aruba         ABW          0          0  20200101   \n",
       "1           Aruba         ABW          0          0  20200102   \n",
       "2           Aruba         ABW          0          0  20200103   \n",
       "3           Aruba         ABW          0          0  20200104   \n",
       "4           Aruba         ABW          0          0  20200105   \n",
       "...           ...         ...        ...        ...       ...   \n",
       "76054    Zimbabwe         ZWE          0          0  20201104   \n",
       "76055    Zimbabwe         ZWE          0          0  20201105   \n",
       "76056    Zimbabwe         ZWE          0          0  20201106   \n",
       "76057    Zimbabwe         ZWE          0          0  20201107   \n",
       "76058    Zimbabwe         ZWE          0          0  20201108   \n",
       "\n",
       "       C1_School closing  C1_Flag  C2_Workplace closing  C2_Flag  \\\n",
       "0                    0.0      0.0                   0.0      0.0   \n",
       "1                    0.0      0.0                   0.0      0.0   \n",
       "2                    0.0      0.0                   0.0      0.0   \n",
       "3                    0.0      0.0                   0.0      0.0   \n",
       "4                    0.0      0.0                   0.0      0.0   \n",
       "...                  ...      ...                   ...      ...   \n",
       "76054                0.0      0.0                   0.0      0.0   \n",
       "76055                0.0      0.0                   0.0      0.0   \n",
       "76056                0.0      0.0                   0.0      0.0   \n",
       "76057                0.0      0.0                   0.0      0.0   \n",
       "76058                0.0      0.0                   0.0      0.0   \n",
       "\n",
       "       C3_Cancel public events  ...  StringencyIndex  \\\n",
       "0                          0.0  ...              0.0   \n",
       "1                          0.0  ...              0.0   \n",
       "2                          0.0  ...              0.0   \n",
       "3                          0.0  ...              0.0   \n",
       "4                          0.0  ...              0.0   \n",
       "...                        ...  ...              ...   \n",
       "76054                      0.0  ...              0.0   \n",
       "76055                      0.0  ...              0.0   \n",
       "76056                      0.0  ...              0.0   \n",
       "76057                      0.0  ...              0.0   \n",
       "76058                      0.0  ...              0.0   \n",
       "\n",
       "       StringencyIndexForDisplay  StringencyLegacyIndex  \\\n",
       "0                            0.0                    0.0   \n",
       "1                            0.0                    0.0   \n",
       "2                            0.0                    0.0   \n",
       "3                            0.0                    0.0   \n",
       "4                            0.0                    0.0   \n",
       "...                          ...                    ...   \n",
       "76054                       71.3                    0.0   \n",
       "76055                       71.3                    0.0   \n",
       "76056                       71.3                    0.0   \n",
       "76057                       71.3                    0.0   \n",
       "76058                       71.3                    0.0   \n",
       "\n",
       "       StringencyLegacyIndexForDisplay  GovernmentResponseIndex  \\\n",
       "0                                 0.00                      0.0   \n",
       "1                                 0.00                      0.0   \n",
       "2                                 0.00                      0.0   \n",
       "3                                 0.00                      0.0   \n",
       "4                                 0.00                      0.0   \n",
       "...                                ...                      ...   \n",
       "76054                            77.38                      0.0   \n",
       "76055                            77.38                      0.0   \n",
       "76056                            77.38                      0.0   \n",
       "76057                            77.38                      0.0   \n",
       "76058                            77.38                      0.0   \n",
       "\n",
       "       GovernmentResponseIndexForDisplay  ContainmentHealthIndex  \\\n",
       "0                                   0.00                     0.0   \n",
       "1                                   0.00                     0.0   \n",
       "2                                   0.00                     0.0   \n",
       "3                                   0.00                     0.0   \n",
       "4                                   0.00                     0.0   \n",
       "...                                  ...                     ...   \n",
       "76054                              60.71                     0.0   \n",
       "76055                              60.71                     0.0   \n",
       "76056                              60.71                     0.0   \n",
       "76057                              60.71                     0.0   \n",
       "76058                              60.71                     0.0   \n",
       "\n",
       "       ContainmentHealthIndexForDisplay  EconomicSupportIndex  \\\n",
       "0                                  0.00                   0.0   \n",
       "1                                  0.00                   0.0   \n",
       "2                                  0.00                   0.0   \n",
       "3                                  0.00                   0.0   \n",
       "4                                  0.00                   0.0   \n",
       "...                                 ...                   ...   \n",
       "76054                             66.67                   0.0   \n",
       "76055                             66.67                   0.0   \n",
       "76056                             66.67                   0.0   \n",
       "76057                             66.67                   0.0   \n",
       "76058                             66.67                   0.0   \n",
       "\n",
       "       EconomicSupportIndexForDisplay  \n",
       "0                                 0.0  \n",
       "1                                 0.0  \n",
       "2                                 0.0  \n",
       "3                                 0.0  \n",
       "4                                 0.0  \n",
       "...                               ...  \n",
       "76054                            25.0  \n",
       "76055                            25.0  \n",
       "76056                            25.0  \n",
       "76057                            25.0  \n",
       "76058                            25.0  \n",
       "\n",
       "[76059 rows x 46 columns]"
      ]
     },
     "execution_count": 3,
     "metadata": {},
     "output_type": "execute_result"
    }
   ],
   "source": [
    "covid.replace(to_replace=np.nan,value = 0)"
   ]
  },
  {
   "cell_type": "code",
   "execution_count": 4,
   "metadata": {},
   "outputs": [
    {
     "data": {
      "text/html": [
       "<div>\n",
       "<style scoped>\n",
       "    .dataframe tbody tr th:only-of-type {\n",
       "        vertical-align: middle;\n",
       "    }\n",
       "\n",
       "    .dataframe tbody tr th {\n",
       "        vertical-align: top;\n",
       "    }\n",
       "\n",
       "    .dataframe thead th {\n",
       "        text-align: right;\n",
       "    }\n",
       "</style>\n",
       "<table border=\"1\" class=\"dataframe\">\n",
       "  <thead>\n",
       "    <tr style=\"text-align: right;\">\n",
       "      <th></th>\n",
       "      <th>CountryName</th>\n",
       "      <th>Date</th>\n",
       "      <th>E3_Fiscal measures</th>\n",
       "      <th>E4_International support</th>\n",
       "      <th>H4_Emergency investment in healthcare</th>\n",
       "      <th>H5_Investment in vaccines</th>\n",
       "    </tr>\n",
       "  </thead>\n",
       "  <tbody>\n",
       "    <tr>\n",
       "      <th>0</th>\n",
       "      <td>Aruba</td>\n",
       "      <td>20200101</td>\n",
       "      <td>0.0</td>\n",
       "      <td>0.0</td>\n",
       "      <td>0.0</td>\n",
       "      <td>0.0</td>\n",
       "    </tr>\n",
       "    <tr>\n",
       "      <th>1</th>\n",
       "      <td>Aruba</td>\n",
       "      <td>20200102</td>\n",
       "      <td>0.0</td>\n",
       "      <td>0.0</td>\n",
       "      <td>0.0</td>\n",
       "      <td>0.0</td>\n",
       "    </tr>\n",
       "    <tr>\n",
       "      <th>2</th>\n",
       "      <td>Aruba</td>\n",
       "      <td>20200103</td>\n",
       "      <td>0.0</td>\n",
       "      <td>0.0</td>\n",
       "      <td>0.0</td>\n",
       "      <td>0.0</td>\n",
       "    </tr>\n",
       "    <tr>\n",
       "      <th>3</th>\n",
       "      <td>Aruba</td>\n",
       "      <td>20200104</td>\n",
       "      <td>0.0</td>\n",
       "      <td>0.0</td>\n",
       "      <td>0.0</td>\n",
       "      <td>0.0</td>\n",
       "    </tr>\n",
       "    <tr>\n",
       "      <th>4</th>\n",
       "      <td>Aruba</td>\n",
       "      <td>20200105</td>\n",
       "      <td>0.0</td>\n",
       "      <td>0.0</td>\n",
       "      <td>0.0</td>\n",
       "      <td>0.0</td>\n",
       "    </tr>\n",
       "  </tbody>\n",
       "</table>\n",
       "</div>"
      ],
      "text/plain": [
       "  CountryName      Date  E3_Fiscal measures  E4_International support  \\\n",
       "0       Aruba  20200101                 0.0                       0.0   \n",
       "1       Aruba  20200102                 0.0                       0.0   \n",
       "2       Aruba  20200103                 0.0                       0.0   \n",
       "3       Aruba  20200104                 0.0                       0.0   \n",
       "4       Aruba  20200105                 0.0                       0.0   \n",
       "\n",
       "   H4_Emergency investment in healthcare  H5_Investment in vaccines  \n",
       "0                                    0.0                        0.0  \n",
       "1                                    0.0                        0.0  \n",
       "2                                    0.0                        0.0  \n",
       "3                                    0.0                        0.0  \n",
       "4                                    0.0                        0.0  "
      ]
     },
     "execution_count": 4,
     "metadata": {},
     "output_type": "execute_result"
    }
   ],
   "source": [
    "#all of the columns related to spending.  The numbers are shown in USD\n",
    "#E1_Income support not shown because coding of 0, 1, 2, NA\n",
    "#Talk through with someone the way to incorporate E1.\n",
    "info = pd.DataFrame(covid, columns= [\"CountryName\", \"Date\",'E3_Fiscal measures','E4_International support',\n",
    "                                     'H4_Emergency investment in healthcare','H5_Investment in vaccines'])\n",
    "info.head()"
   ]
  },
  {
   "cell_type": "code",
   "execution_count": 5,
   "metadata": {},
   "outputs": [
    {
     "data": {
      "text/html": [
       "<div>\n",
       "<style scoped>\n",
       "    .dataframe tbody tr th:only-of-type {\n",
       "        vertical-align: middle;\n",
       "    }\n",
       "\n",
       "    .dataframe tbody tr th {\n",
       "        vertical-align: top;\n",
       "    }\n",
       "\n",
       "    .dataframe thead th {\n",
       "        text-align: right;\n",
       "    }\n",
       "</style>\n",
       "<table border=\"1\" class=\"dataframe\">\n",
       "  <thead>\n",
       "    <tr style=\"text-align: right;\">\n",
       "      <th></th>\n",
       "      <th>CountryName</th>\n",
       "      <th>Date</th>\n",
       "      <th>E3_Fiscal measures</th>\n",
       "      <th>E4_International support</th>\n",
       "      <th>H4_Emergency investment in healthcare</th>\n",
       "      <th>H5_Investment in vaccines</th>\n",
       "    </tr>\n",
       "  </thead>\n",
       "  <tbody>\n",
       "    <tr>\n",
       "      <th>0</th>\n",
       "      <td>Aruba</td>\n",
       "      <td>20200101</td>\n",
       "      <td>0.0</td>\n",
       "      <td>0.0</td>\n",
       "      <td>0.0</td>\n",
       "      <td>0.0</td>\n",
       "    </tr>\n",
       "    <tr>\n",
       "      <th>1</th>\n",
       "      <td>Aruba</td>\n",
       "      <td>20200102</td>\n",
       "      <td>0.0</td>\n",
       "      <td>0.0</td>\n",
       "      <td>0.0</td>\n",
       "      <td>0.0</td>\n",
       "    </tr>\n",
       "    <tr>\n",
       "      <th>2</th>\n",
       "      <td>Aruba</td>\n",
       "      <td>20200103</td>\n",
       "      <td>0.0</td>\n",
       "      <td>0.0</td>\n",
       "      <td>0.0</td>\n",
       "      <td>0.0</td>\n",
       "    </tr>\n",
       "    <tr>\n",
       "      <th>3</th>\n",
       "      <td>Aruba</td>\n",
       "      <td>20200104</td>\n",
       "      <td>0.0</td>\n",
       "      <td>0.0</td>\n",
       "      <td>0.0</td>\n",
       "      <td>0.0</td>\n",
       "    </tr>\n",
       "    <tr>\n",
       "      <th>4</th>\n",
       "      <td>Aruba</td>\n",
       "      <td>20200105</td>\n",
       "      <td>0.0</td>\n",
       "      <td>0.0</td>\n",
       "      <td>0.0</td>\n",
       "      <td>0.0</td>\n",
       "    </tr>\n",
       "    <tr>\n",
       "      <th>...</th>\n",
       "      <td>...</td>\n",
       "      <td>...</td>\n",
       "      <td>...</td>\n",
       "      <td>...</td>\n",
       "      <td>...</td>\n",
       "      <td>...</td>\n",
       "    </tr>\n",
       "    <tr>\n",
       "      <th>76054</th>\n",
       "      <td>Zimbabwe</td>\n",
       "      <td>20201104</td>\n",
       "      <td>0.0</td>\n",
       "      <td>0.0</td>\n",
       "      <td>0.0</td>\n",
       "      <td>0.0</td>\n",
       "    </tr>\n",
       "    <tr>\n",
       "      <th>76055</th>\n",
       "      <td>Zimbabwe</td>\n",
       "      <td>20201105</td>\n",
       "      <td>0.0</td>\n",
       "      <td>0.0</td>\n",
       "      <td>0.0</td>\n",
       "      <td>0.0</td>\n",
       "    </tr>\n",
       "    <tr>\n",
       "      <th>76056</th>\n",
       "      <td>Zimbabwe</td>\n",
       "      <td>20201106</td>\n",
       "      <td>0.0</td>\n",
       "      <td>0.0</td>\n",
       "      <td>0.0</td>\n",
       "      <td>0.0</td>\n",
       "    </tr>\n",
       "    <tr>\n",
       "      <th>76057</th>\n",
       "      <td>Zimbabwe</td>\n",
       "      <td>20201107</td>\n",
       "      <td>0.0</td>\n",
       "      <td>0.0</td>\n",
       "      <td>0.0</td>\n",
       "      <td>0.0</td>\n",
       "    </tr>\n",
       "    <tr>\n",
       "      <th>76058</th>\n",
       "      <td>Zimbabwe</td>\n",
       "      <td>20201108</td>\n",
       "      <td>0.0</td>\n",
       "      <td>0.0</td>\n",
       "      <td>0.0</td>\n",
       "      <td>0.0</td>\n",
       "    </tr>\n",
       "  </tbody>\n",
       "</table>\n",
       "<p>76059 rows × 6 columns</p>\n",
       "</div>"
      ],
      "text/plain": [
       "      CountryName      Date  E3_Fiscal measures  E4_International support  \\\n",
       "0           Aruba  20200101                 0.0                       0.0   \n",
       "1           Aruba  20200102                 0.0                       0.0   \n",
       "2           Aruba  20200103                 0.0                       0.0   \n",
       "3           Aruba  20200104                 0.0                       0.0   \n",
       "4           Aruba  20200105                 0.0                       0.0   \n",
       "...           ...       ...                 ...                       ...   \n",
       "76054    Zimbabwe  20201104                 0.0                       0.0   \n",
       "76055    Zimbabwe  20201105                 0.0                       0.0   \n",
       "76056    Zimbabwe  20201106                 0.0                       0.0   \n",
       "76057    Zimbabwe  20201107                 0.0                       0.0   \n",
       "76058    Zimbabwe  20201108                 0.0                       0.0   \n",
       "\n",
       "       H4_Emergency investment in healthcare  H5_Investment in vaccines  \n",
       "0                                        0.0                        0.0  \n",
       "1                                        0.0                        0.0  \n",
       "2                                        0.0                        0.0  \n",
       "3                                        0.0                        0.0  \n",
       "4                                        0.0                        0.0  \n",
       "...                                      ...                        ...  \n",
       "76054                                    0.0                        0.0  \n",
       "76055                                    0.0                        0.0  \n",
       "76056                                    0.0                        0.0  \n",
       "76057                                    0.0                        0.0  \n",
       "76058                                    0.0                        0.0  \n",
       "\n",
       "[76059 rows x 6 columns]"
      ]
     },
     "execution_count": 5,
     "metadata": {},
     "output_type": "execute_result"
    }
   ],
   "source": [
    "info.replace(to_replace=np.nan,value = 0)"
   ]
  },
  {
   "cell_type": "code",
   "execution_count": 6,
   "metadata": {},
   "outputs": [],
   "source": [
    "info['Date'] = pd.to_datetime(info['Date'], format='%Y%m%d')"
   ]
  },
  {
   "cell_type": "code",
   "execution_count": 7,
   "metadata": {},
   "outputs": [
    {
     "data": {
      "text/plain": [
       "United States     16589\n",
       "United Kingdom     1565\n",
       "Burkina Faso        313\n",
       "South Korea         313\n",
       "Switzerland         313\n",
       "                  ...  \n",
       "Moldova             313\n",
       "Senegal             313\n",
       "Congo               313\n",
       "Djibouti            313\n",
       "Bulgaria            313\n",
       "Name: CountryName, Length: 187, dtype: int64"
      ]
     },
     "execution_count": 7,
     "metadata": {},
     "output_type": "execute_result"
    }
   ],
   "source": [
    "info['CountryName'].value_counts()"
   ]
  },
  {
   "cell_type": "code",
   "execution_count": 8,
   "metadata": {},
   "outputs": [
    {
     "data": {
      "text/plain": [
       "0.56"
      ]
     },
     "execution_count": 8,
     "metadata": {},
     "output_type": "execute_result"
    }
   ],
   "source": [
    "aruba = info.loc[info['CountryName']=='Aruba']\n",
    "international_support = aruba['E4_International support'].sum()\n",
    "international_support"
   ]
  },
  {
   "cell_type": "code",
   "execution_count": 9,
   "metadata": {},
   "outputs": [],
   "source": [
    "International = []\n",
    "Emergency_investment_healthcare = []\n",
    "Investment_vaccine = []\n",
    "Fiscal_measures = []\n"
   ]
  },
  {
   "cell_type": "code",
   "execution_count": null,
   "metadata": {},
   "outputs": [],
   "source": [
    "#issue with state. \n",
    "for country in info['CountryName']:\n",
    "    state = info.loc[info['CountryName']=='country']\n",
    "    support = state['E4_International support'].sum()\n",
    "    International.append(support)"
   ]
  },
  {
   "cell_type": "code",
   "execution_count": null,
   "metadata": {},
   "outputs": [],
   "source": [
    "for country in info['CountryName']:\n",
    "    state = info.loc[info['CountryName']=='country'] \n",
    "    health = state['H4_Emergency investment in healthcare'].sum()\n",
    "    Emergency_investment_healthcare.append(health)"
   ]
  },
  {
   "cell_type": "code",
   "execution_count": null,
   "metadata": {},
   "outputs": [],
   "source": [
    "for country in info['CountryName']:\n",
    "    state = info.loc[info['CountryName']=='country']\n",
    "    vaccine = state['H5_Investment in vaccines'].sum()\n",
    "    Investment_vaccine.append(vaccine)"
   ]
  },
  {
   "cell_type": "code",
   "execution_count": null,
   "metadata": {},
   "outputs": [],
   "source": [
    "for country in info['CountryName']:\n",
    "    state = info.loc[info['CountryName']=='country']\n",
    "    fiscal = state['E3_Fiscal measures'].sum()\n",
    "    Fiscal_measures.append(fiscal)"
   ]
  },
  {
   "cell_type": "code",
   "execution_count": null,
   "metadata": {},
   "outputs": [],
   "source": [
    "summary = {'Sum International Support': [International],\n",
    "'Sum Emergency Investment in Health Care': [Emergency_investment_healthcare],\n",
    "'Sum Investment in Vaccines':[Investment_vaccine],\n",
    "'Sum Fiscal Measures': [Fiscal_measures]}\n",
    "\n",
    "total = pd.DataFrame(data= summary)"
   ]
  },
  {
   "cell_type": "code",
   "execution_count": null,
   "metadata": {},
   "outputs": [],
   "source": []
  },
  {
   "cell_type": "code",
   "execution_count": 9,
   "metadata": {},
   "outputs": [],
   "source": [
    "us = info.loc[info['CountryName']=='United States']"
   ]
  },
  {
   "cell_type": "code",
   "execution_count": 10,
   "metadata": {},
   "outputs": [
    {
     "data": {
      "text/plain": [
       "2170950000.0"
      ]
     },
     "execution_count": 10,
     "metadata": {},
     "output_type": "execute_result"
    }
   ],
   "source": [
    "#Announced offers of Covid-19 related aid spending to other countries\n",
    "#Note: only record amount additional to previously announced spending\n",
    "international_support = us['E4_International support'].sum()\n",
    "international_support"
   ]
  },
  {
   "cell_type": "code",
   "execution_count": 11,
   "metadata": {},
   "outputs": [
    {
     "data": {
      "text/plain": [
       "410075135000.0"
      ]
     },
     "execution_count": 11,
     "metadata": {},
     "output_type": "execute_result"
    }
   ],
   "source": [
    "#Announced short term spending on healthcare system, eg hospitals, masks, etc\n",
    "#Note: only record amount additional to previously announced spending\n",
    "emergency_healthcare_us = us['H4_Emergency investment in healthcare'].sum()\n",
    "emergency_healthcare_us"
   ]
  },
  {
   "cell_type": "code",
   "execution_count": 12,
   "metadata": {},
   "outputs": [
    {
     "data": {
      "text/plain": [
       "7068000000.0"
      ]
     },
     "execution_count": 12,
     "metadata": {},
     "output_type": "execute_result"
    }
   ],
   "source": [
    "#Announced public spending on Covid-19 vaccine development\n",
    "#Note: only record amount additional to previously announced spending\n",
    "us_vaccine = us['H5_Investment in vaccines'].sum()\n",
    "us_vaccine"
   ]
  },
  {
   "cell_type": "code",
   "execution_count": 13,
   "metadata": {},
   "outputs": [
    {
     "data": {
      "text/plain": [
       "2540083699646.0"
      ]
     },
     "execution_count": 13,
     "metadata": {},
     "output_type": "execute_result"
    }
   ],
   "source": [
    "#Announced economic stimulus spending\n",
    "#Note: only record amount additional to previously announced spending\n",
    "us_stim = us['E3_Fiscal measures'].sum()\n",
    "us_stim"
   ]
  },
  {
   "cell_type": "code",
   "execution_count": 14,
   "metadata": {},
   "outputs": [
    {
     "data": {
      "text/plain": [
       "2959397784646.0"
      ]
     },
     "execution_count": 14,
     "metadata": {},
     "output_type": "execute_result"
    }
   ],
   "source": [
    "us_total = (us_stim+us_vaccine+emergency_healthcare_us+international_support)\n",
    "us_total"
   ]
  },
  {
   "cell_type": "code",
   "execution_count": null,
   "metadata": {},
   "outputs": [],
   "source": []
  },
  {
   "cell_type": "code",
   "execution_count": null,
   "metadata": {},
   "outputs": [],
   "source": []
  },
  {
   "cell_type": "code",
   "execution_count": null,
   "metadata": {},
   "outputs": [],
   "source": [
    "#read in data\n",
    "data = pd.read_csv('/Users/kscomputer/Desktop/Project_1/Project_1/output_data/oxford_clean3.csv')\n",
    "data.head()"
   ]
  },
  {
   "cell_type": "code",
   "execution_count": null,
   "metadata": {},
   "outputs": [],
   "source": [
    "data['Date'] = pd.to_datetime(data['Date'], format='%Y%m%d')"
   ]
  },
  {
   "cell_type": "code",
   "execution_count": null,
   "metadata": {},
   "outputs": [],
   "source": [
    "#narrow down data to just mandataes\n",
    "info = pd.DataFrame(data, columns= [\"CountryName\", \"Date\", \"C1_School_closing\", \"C2_Workplace_closing\",\n",
    "                                         \"C6_Stay_home_requirements\", \"E1_Income_support\",\n",
    "                                    \"H6_Facial_coverings\"])"
   ]
  },
  {
   "cell_type": "code",
   "execution_count": null,
   "metadata": {},
   "outputs": [],
   "source": [
    "info.head()"
   ]
  },
  {
   "cell_type": "code",
   "execution_count": null,
   "metadata": {},
   "outputs": [],
   "source": [
    "info = info.astype({'C1_School_closing': 'int', 'C2_Workplace_closing': 'int', \n",
    "                    'C6_Stay_home_requirements': 'int', 'E1_Income_support':'int',\n",
    "                            'H6_Facial_coverings': 'int'}) "
   ]
  },
  {
   "cell_type": "code",
   "execution_count": null,
   "metadata": {},
   "outputs": [],
   "source": [
    "info['Date'] = pd.to_datetime(info['Date'], format='%Y%m%d')\n",
    "info.dropna()"
   ]
  },
  {
   "cell_type": "code",
   "execution_count": null,
   "metadata": {},
   "outputs": [],
   "source": [
    "#The values below are from \"worldometers.info\"\n",
    "# Total populations as of Jan 1, 2020.\n",
    "braz_pop = 212559417\n",
    "china_pop = 1408526449\n",
    "ital_pop = 60005743\n",
    "jp_pop = 125938348\n",
    "nz_pop = 4822233\n",
    "swe_pop = 10151866\n",
    "uk_pop = 66575226\n",
    "us_pop = 330380000\n",
    "\n",
    "# Create a list containing the total populations of each conutry\n",
    "pops = (212559417, 1408526449, 60005743, 125938348, 4822233, 10151866, 66575226, 330380000)\n",
    "\n",
    "# Locate the most recent date data is available for all countries\n",
    "last_df=data.loc[data['Date']=='2020-10-22']\n",
    "\n",
    " \n",
    "#Add a column to e new DF containing total populations for analysis purposes\n",
    "last_df[\"total_pop\"] = pops\n",
    "last_df = last_df.set_index('CountryName')\n",
    "last_df\n",
    "\n",
    "# # Calculate the Percentage of Each Country Infected and Deceased\n",
    "perc_cases = (last_df['ConfirmedCases']/last_df[\"total_pop\"])\n",
    "perc_deaths = (last_df['ConfirmedDeaths']/last_df[\"total_pop\"])\n",
    "\n",
    "# # Create a DataFrame to hold these values\n",
    "perc_summ = pd.DataFrame({'Percent_Infected':perc_cases, 'Percent_Deceased':perc_deaths})\n",
    "perc_summ.style.format({\"Percent_Infected\":\"{:.6%}\", \"Percent_Deceased\":\"{:.6%}\"})\n",
    "\n",
    "perc_summ\n"
   ]
  },
  {
   "cell_type": "code",
   "execution_count": null,
   "metadata": {},
   "outputs": [],
   "source": [
    "#transpose the .describe  so I can run mean on 50% column to find what countries issued relaxed mandates and which had strict mandates\n",
    "info.describe().T"
   ]
  },
  {
   "cell_type": "code",
   "execution_count": null,
   "metadata": {
    "scrolled": false
   },
   "outputs": [],
   "source": [
    "#everything below 1.4 is relaxed mandate country. everything above is strict country\n",
    "info_mean = info.describe().T['50%'].mean()\n",
    "info_mean"
   ]
  },
  {
   "cell_type": "code",
   "execution_count": null,
   "metadata": {},
   "outputs": [],
   "source": [
    "#brazil country by itself with total mean labeled as brazil total and insight summary df for looking to see if there is any further insights to explore\n",
    "brazil = info.loc[info['CountryName']=='Brazil']\n",
    "brazil_mean = brazil.mean()\n",
    "brazil_mean\n",
    "brazil_sum = brazil_mean.sum()\n",
    "brazil_sum\n",
    "brazil_total = (brazil_sum/5)"
   ]
  },
  {
   "cell_type": "code",
   "execution_count": null,
   "metadata": {},
   "outputs": [],
   "source": [
    "#china country by itself with total mean labeled as china total and insight summary df for looking to see if there is any further insights to explore\n",
    "china = info.loc[info['CountryName']=='China']\n",
    "china_mean = china.mean()\n",
    "china_mean\n",
    "china_sum = china_mean.sum()\n",
    "china_sum\n",
    "china_total = (china_sum/5)\n"
   ]
  },
  {
   "cell_type": "code",
   "execution_count": null,
   "metadata": {},
   "outputs": [],
   "source": [
    "#uk country by itself with total mean labeled as uk total and insight summary df for looking to see if there is any further insights to explore\n",
    "uk = info.loc[info['CountryName']=='United Kingdom']\n",
    "uk_mean = uk.mean()\n",
    "uk_mean\n",
    "uk_sum = uk_mean.sum()\n",
    "uk_sum\n",
    "uk_total = (uk_sum/5)\n"
   ]
  },
  {
   "cell_type": "code",
   "execution_count": null,
   "metadata": {},
   "outputs": [],
   "source": [
    "#itlay country by itself with total mean labeled as italy total and insight summary df for looking to see if there is any further insights to explore\n",
    "italy = info.loc[info['CountryName']=='Italy']\n",
    "italy_mean = italy.mean()\n",
    "italy_mean\n",
    "italy_sum = italy_mean.sum()\n",
    "italy_sum\n",
    "italy_total = (italy_sum/5)\n"
   ]
  },
  {
   "cell_type": "code",
   "execution_count": null,
   "metadata": {},
   "outputs": [],
   "source": [
    "#japan country by itself with total mean labeled as japan total and insight summary df for looking to see if there is any further insights to explore\n",
    "japan = info.loc[info['CountryName']=='Japan']\n",
    "japan_mean = japan.mean()\n",
    "japan_mean\n",
    "japan_sum = japan_mean.sum()\n",
    "japan_sum\n",
    "japan_total = (japan_sum/5)"
   ]
  },
  {
   "cell_type": "code",
   "execution_count": null,
   "metadata": {},
   "outputs": [],
   "source": [
    "#New Zealand country by itself with total mean labeled as New Zealand total and insight summary df for looking to see if there is any further insights to explore\n",
    "nz = info.loc[info['CountryName']=='New Zealand']\n",
    "nz_mean = nz.mean()\n",
    "nz_mean\n",
    "nz_sum = nz_mean.sum()\n",
    "nz_sum\n",
    "nz_total = (nz_sum/5)\n"
   ]
  },
  {
   "cell_type": "code",
   "execution_count": null,
   "metadata": {},
   "outputs": [],
   "source": [
    "#sweden country by itself with total mean labeled as sweden total and insight summary df for looking to see if there is any further insights to explore\n",
    "meatball = info.loc[info['CountryName']=='Sweden']\n",
    "\n",
    "meatball_mean = meatball.mean()\n",
    "meatball_mean\n",
    "meatball_sum = meatball_mean.sum()\n",
    "meatball_sum\n",
    "meatball_total = (meatball_sum/5)\n"
   ]
  },
  {
   "cell_type": "code",
   "execution_count": null,
   "metadata": {},
   "outputs": [],
   "source": [
    "#united states country by itself with total mean labeled as united states total and insight summary df for looking to see if there is any further insights to explore\n",
    "us = info.loc[info['CountryName']=='United States']\n",
    "us\n",
    "\n",
    "us_mean = us.mean()\n",
    "us_mean\n",
    "us_sum = us_mean.sum()\n",
    "us_sum\n",
    "us_total = (us_sum/5)\n"
   ]
  },
  {
   "cell_type": "code",
   "execution_count": null,
   "metadata": {},
   "outputs": [],
   "source": [
    "#summary df with country and average mandate\n",
    "total = {'Country':['China','Brazil','United States','Italy','United Kingdom'\n",
    "                   ,'Japan','New Zealand','Sweden'],\n",
    "         'Average Mandate':[china_total, brazil_total, us_total, italy_total,\n",
    "                           uk_total,japan_total, nz_total, meatball_total]}\n",
    "\n",
    "\n",
    "sum_df = pd.DataFrame(total)\n",
    "\n",
    "sum_df"
   ]
  },
  {
   "cell_type": "code",
   "execution_count": null,
   "metadata": {},
   "outputs": [],
   "source": [
    "#1.4 was the mean of the 50% column above on .describe(), making the df below the Strict countries\n",
    "strict_df = sum_df.loc[sum_df['Average Mandate']>=1.4]\n",
    "strict_df"
   ]
  },
  {
   "cell_type": "code",
   "execution_count": null,
   "metadata": {},
   "outputs": [],
   "source": [
    "##1.4 was the mean of the 50% column above on .describe(), making the df below the relax countries\n",
    "lax_df = sum_df.loc[sum_df['Average Mandate']<=1.4]\n",
    "lax_df"
   ]
  },
  {
   "cell_type": "code",
   "execution_count": null,
   "metadata": {},
   "outputs": [],
   "source": [
    "#brazil max number of cases\n",
    "brazil= data.loc[data['CountryName']=='Brazil']\n",
    "brazil_max = brazil['ConfirmedCases'].max()\n",
    "brazil_max"
   ]
  },
  {
   "cell_type": "code",
   "execution_count": null,
   "metadata": {},
   "outputs": [],
   "source": [
    "#china max number of cases\n",
    "china= data.loc[data['CountryName']=='China']\n",
    "china_max = china['ConfirmedCases'].max()\n",
    "china_max"
   ]
  },
  {
   "cell_type": "code",
   "execution_count": null,
   "metadata": {},
   "outputs": [],
   "source": [
    "#us max number of cases\n",
    "us= data.loc[data['CountryName']=='United States']\n",
    "us_max = us['ConfirmedCases'].max()\n",
    "us_max"
   ]
  },
  {
   "cell_type": "code",
   "execution_count": null,
   "metadata": {},
   "outputs": [],
   "source": [
    "#italy max number of cases\n",
    "italy= data.loc[data['CountryName']=='Italy']\n",
    "italy_max = italy['ConfirmedCases'].max()\n",
    "italy_max"
   ]
  },
  {
   "cell_type": "code",
   "execution_count": null,
   "metadata": {},
   "outputs": [],
   "source": [
    "#uk max number of cases\n",
    "uk= data.loc[data['CountryName']=='United Kingdom']\n",
    "uk_max = uk['ConfirmedCases'].max()\n",
    "uk_max"
   ]
  },
  {
   "cell_type": "code",
   "execution_count": null,
   "metadata": {},
   "outputs": [],
   "source": [
    "#japan max number of cases\n",
    "japan= data.loc[data['CountryName']=='Japan']\n",
    "japan_max = japan['ConfirmedCases'].max()\n",
    "japan_max"
   ]
  },
  {
   "cell_type": "code",
   "execution_count": null,
   "metadata": {},
   "outputs": [],
   "source": [
    "#new zealand max number of cases\n",
    "nz= data.loc[data['CountryName']=='New Zealand']\n",
    "nz_max = nz['ConfirmedCases'].max()\n",
    "nz_max"
   ]
  },
  {
   "cell_type": "code",
   "execution_count": null,
   "metadata": {},
   "outputs": [],
   "source": [
    "#sweden max number of cases\n",
    "meatball= data.loc[data['CountryName']=='Sweden']\n",
    "meatball_max = meatball['ConfirmedCases'].max()\n",
    "meatball_max"
   ]
  },
  {
   "cell_type": "code",
   "execution_count": null,
   "metadata": {},
   "outputs": [],
   "source": [
    "#summary df of country and total cases\n",
    "totals = {'Country':['China','Brazil','United States','Italy','United Kingdom'\n",
    "                   ,'Japan','New Zealand','Sweden'],\n",
    "         'Confirmed Cases':[china_max, brazil_max, us_max, italy_max,\n",
    "                           uk_max,japan_max, nz_max, meatball_max]}\n",
    "\n",
    "\n",
    "totals_df = pd.DataFrame(totals)\n",
    "\n",
    "totals_df"
   ]
  },
  {
   "cell_type": "code",
   "execution_count": null,
   "metadata": {},
   "outputs": [],
   "source": [
    "#summary df with strict mandate country total confirmed cases\n",
    "strict_max = totals_df.loc[totals_df['Country'].isin(['China','Brazil','United States','Italy'])]\n",
    "strict_max"
   ]
  },
  {
   "cell_type": "code",
   "execution_count": null,
   "metadata": {},
   "outputs": [],
   "source": [
    "#summary df with relaxed mandate country total confirmed cases\n",
    "lax_max = totals_df.loc[totals_df['Country'].isin(['United Kingdom','Japan','New Zealand','Sweden'])]\n",
    "lax_max"
   ]
  },
  {
   "cell_type": "code",
   "execution_count": null,
   "metadata": {},
   "outputs": [],
   "source": [
    "#brazil max number of deaths\n",
    "brazil= data.loc[data['CountryName']=='Brazil']\n",
    "brazil_d = brazil['ConfirmedDeaths'].max()\n",
    "brazil_d"
   ]
  },
  {
   "cell_type": "code",
   "execution_count": null,
   "metadata": {},
   "outputs": [],
   "source": [
    "#china max number of deaths\n",
    "china= data.loc[data['CountryName']=='China']\n",
    "china_d = china['ConfirmedDeaths'].max()\n",
    "china_d"
   ]
  },
  {
   "cell_type": "code",
   "execution_count": null,
   "metadata": {},
   "outputs": [],
   "source": [
    "#US max number of deaths\n",
    "us= data.loc[data['CountryName']=='United States']\n",
    "us_d = us['ConfirmedDeaths'].max()\n",
    "us_d"
   ]
  },
  {
   "cell_type": "code",
   "execution_count": null,
   "metadata": {},
   "outputs": [],
   "source": [
    "#italy max number of deaths\n",
    "italy= data.loc[data['CountryName']=='Italy']\n",
    "italy_d = italy['ConfirmedDeaths'].max()\n",
    "italy_d"
   ]
  },
  {
   "cell_type": "code",
   "execution_count": null,
   "metadata": {},
   "outputs": [],
   "source": [
    "#uk max number of deaths\n",
    "uk= data.loc[data['CountryName']=='United Kingdom']\n",
    "uk_d = uk['ConfirmedDeaths'].max()\n",
    "uk_d"
   ]
  },
  {
   "cell_type": "code",
   "execution_count": null,
   "metadata": {},
   "outputs": [],
   "source": [
    "#japan max number of deaths\n",
    "japan= data.loc[data['CountryName']=='Japan']\n",
    "japan_d = japan['ConfirmedDeaths'].max()\n",
    "japan_d"
   ]
  },
  {
   "cell_type": "code",
   "execution_count": null,
   "metadata": {},
   "outputs": [],
   "source": [
    "#new zealnd max number of deaths\n",
    "nz= data.loc[data['CountryName']=='New Zealand']\n",
    "nz_d = nz['ConfirmedDeaths'].max()\n",
    "nz_d"
   ]
  },
  {
   "cell_type": "code",
   "execution_count": null,
   "metadata": {},
   "outputs": [],
   "source": [
    "#sweden max number of deaths\n",
    "meatball= data.loc[data['CountryName']=='Sweden']\n",
    "meatball_d = meatball['ConfirmedDeaths'].max()\n",
    "meatball_d"
   ]
  },
  {
   "cell_type": "code",
   "execution_count": null,
   "metadata": {},
   "outputs": [],
   "source": [
    "#summary df of country and total deaths\n",
    "total_d = {'Country':['China','Brazil','United States','Italy','United Kingdom'\n",
    "                   ,'Japan','New Zealand','Sweden'],\n",
    "         'Confirmed Deaths':[china_d, brazil_d, us_d, italy_d,\n",
    "                           uk_d,japan_d, nz_d, meatball_d]}\n",
    "\n",
    "\n",
    "death_df = pd.DataFrame(total_d)\n",
    "death_df"
   ]
  },
  {
   "cell_type": "code",
   "execution_count": null,
   "metadata": {},
   "outputs": [],
   "source": [
    "#summary df with strict mandate country total confirmed deaths\n",
    "strict_d = death_df.loc[death_df['Country'].isin(['China','Brazil','United States','Italy'])]\n",
    "strict_d"
   ]
  },
  {
   "cell_type": "code",
   "execution_count": null,
   "metadata": {},
   "outputs": [],
   "source": [
    "#summary df with relaxed mandate country total confirmed deaths\n",
    "lax_d = death_df.loc[death_df['Country'].isin(['United Kingdom','Japan','New Zealand','Sweden'])]\n",
    "lax_d"
   ]
  },
  {
   "cell_type": "code",
   "execution_count": null,
   "metadata": {
    "scrolled": true
   },
   "outputs": [],
   "source": [
    "#linear regression strict mandates v strict cases\n",
    "x_values = strict_df['Average Mandate']\n",
    "y_values = strict_max['Confirmed Cases']\n",
    "(slope, intercept, rvalue, pvalue, stdeer) = linregress(x_values,y_values)\n",
    "regress_values = x_values*slope+intercept\n",
    "line_eq = 'y=' +str(round(slope,2))+'x + ' +str(round(intercept,2))\n",
    "plt.scatter(x_values, y_values)\n",
    "plt.plot(x_values,regress_values,'r-')\n",
    "plt.annotate(line_eq,(15,10),fontsize = 25, color='red')\n",
    "plt.title('Average Mandate: Strict Countries v Confirmed Cases')\n",
    "plt.xlabel('Average Mandate: Strict Countries')\n",
    "plt.ylabel('Confirmed Cases')\n",
    "plt.show()"
   ]
  },
  {
   "cell_type": "code",
   "execution_count": null,
   "metadata": {},
   "outputs": [],
   "source": [
    "#pearsonr for strict mandates v strict cases\n",
    "correlation = st.pearsonr(strict_df['Average Mandate'], strict_max['Confirmed Cases'])\n",
    "correlation"
   ]
  },
  {
   "cell_type": "code",
   "execution_count": null,
   "metadata": {},
   "outputs": [],
   "source": [
    "#linear regression strict mandates v strict deaths\n",
    "x_values = strict_df['Average Mandate']\n",
    "y_values = strict_d['Confirmed Deaths']\n",
    "(slope, intercept, rvalue, pvalue, stdeer) = linregress(x_values,y_values)\n",
    "regress_values = x_values*slope+intercept\n",
    "line_eq = 'y=' +str(round(slope,2))+'x + ' +str(round(intercept,2))\n",
    "plt.scatter(x_values, y_values)\n",
    "plt.plot(x_values,regress_values,'r-')\n",
    "plt.annotate(line_eq,(15,10),fontsize = 25, color='red')\n",
    "plt.title('Average Mandate: Strict Countries v Confirmed Deaths')\n",
    "plt.xlabel('Average Mandate: Strict Countries')\n",
    "plt.ylabel('Confirmed Deaths')\n",
    "plt.show()"
   ]
  },
  {
   "cell_type": "code",
   "execution_count": null,
   "metadata": {},
   "outputs": [],
   "source": [
    "#pearsonr for strict mandates v strict deaths\n",
    "correlation = st.pearsonr(strict_df['Average Mandate'], strict_d['Confirmed Deaths'])\n",
    "correlation"
   ]
  },
  {
   "cell_type": "code",
   "execution_count": null,
   "metadata": {},
   "outputs": [],
   "source": [
    "#linear regression relaxed mandates v relaxed cases\n",
    "x_values = lax_df['Average Mandate']\n",
    "y_values = lax_max['Confirmed Cases']\n",
    "(slope, intercept, rvalue, pvalue, stdeer) = linregress(x_values,y_values)\n",
    "regress_values = x_values*slope+intercept\n",
    "line_eq = 'y=' +str(round(slope,2))+'x + ' +str(round(intercept,2))\n",
    "plt.scatter(x_values, y_values)\n",
    "plt.plot(x_values,regress_values,'r-')\n",
    "plt.annotate(line_eq,(15,10),fontsize = 25, color='red')\n",
    "plt.title('Average Mandate: Lax Countries v Confirmed Cases')\n",
    "plt.xlabel('Average Mandate: Lax Countries')\n",
    "plt.ylabel('Confirmed Cases')\n",
    "plt.show()"
   ]
  },
  {
   "cell_type": "code",
   "execution_count": null,
   "metadata": {},
   "outputs": [],
   "source": [
    "#pearsonr for relaxed mandates v relaxed cases\n",
    "correlation = st.pearsonr(lax_df['Average Mandate'], lax_max['Confirmed Cases'])\n",
    "correlation"
   ]
  },
  {
   "cell_type": "code",
   "execution_count": null,
   "metadata": {},
   "outputs": [],
   "source": [
    "#linear regression relaxed mandates v relaxed deaths\n",
    "x_values = lax_df['Average Mandate']\n",
    "y_values = lax_d['Confirmed Deaths']\n",
    "(slope, intercept, rvalue, pvalue, stdeer) = linregress(x_values,y_values)\n",
    "regress_values = x_values*slope+intercept\n",
    "line_eq = 'y=' +str(round(slope,2))+'x + ' +str(round(intercept,2))\n",
    "plt.scatter(x_values, y_values)\n",
    "plt.plot(x_values,regress_values,'r-')\n",
    "plt.annotate(line_eq,(15,10),fontsize = 25, color='red')\n",
    "plt.title('Average Mandate: Lax Countries v Confirmed Deaths')\n",
    "plt.xlabel('Average Mandate: Lax Countries')\n",
    "plt.ylabel('Confirmed Deaths')\n",
    "plt.show()"
   ]
  },
  {
   "cell_type": "code",
   "execution_count": null,
   "metadata": {},
   "outputs": [],
   "source": [
    "#pearsonr for relaxed mandates v relaxed deaths\n",
    "correlation = st.pearsonr(lax_df['Average Mandate'], lax_d['Confirmed Deaths'])\n",
    "correlation"
   ]
  },
  {
   "cell_type": "markdown",
   "metadata": {},
   "source": [
    "WHAT DID COUNTRIES SPENDING LOOK LIKE VS CONFIRMED COVID CASES AND DID IT HAVE ANY EFFECT? "
   ]
  },
  {
   "cell_type": "code",
   "execution_count": null,
   "metadata": {},
   "outputs": [],
   "source": [
    "data['Date'] = pd.to_datetime(data['Date'], format='%Y%m%d')\n",
    "data.set_index('CountryName')"
   ]
  },
  {
   "cell_type": "code",
   "execution_count": null,
   "metadata": {},
   "outputs": [],
   "source": [
    "#narrow down to just economic mandates and additional spending e3\n",
    "df = data[['CountryName','E3_Fiscal_measures','ConfirmedCases','ConfirmedDeaths']]\n",
    "df.head()"
   ]
  },
  {
   "cell_type": "code",
   "execution_count": null,
   "metadata": {},
   "outputs": [],
   "source": [
    "df.set_index('CountryName')"
   ]
  },
  {
   "cell_type": "code",
   "execution_count": null,
   "metadata": {},
   "outputs": [],
   "source": [
    "plt.bar(df['CountryName'],df['E3_Fiscal_measures'])\n",
    "plt.xticks(rotation='vertical')\n",
    "plt.title('Country and Spending COVID-19')\n",
    "plt.xlabel('Countries')\n",
    "plt.ylabel('Spending in Trillions ($)')\n",
    "plt.show()"
   ]
  },
  {
   "cell_type": "code",
   "execution_count": null,
   "metadata": {},
   "outputs": [],
   "source": [
    "us_sum = us['E3_Fiscal_measures'].sum()\n",
    "china_sum = china['E3_Fiscal_measures'].sum()\n",
    "uk_sum = uk['E3_Fiscal_measures'].sum()\n",
    "italy_sum = italy['E3_Fiscal_measures'].sum()\n",
    "sweden_sum = meatball['E3_Fiscal_measures'].sum()\n",
    "japan_sum = japan['E3_Fiscal_measures'].sum()\n",
    "nz_sum = nz['E3_Fiscal_measures'].sum()\n",
    "brazil_sum = brazil['E3_Fiscal_measures'].sum()\n",
    "\n",
    "total = {'Country':['China','Brazil','United States','Italy','United Kingdom'\n",
    "                    ,'Japan','New Zealand','Sweden'],\n",
    "          'Total Spending':[china_sum, brazil_sum, us_sum, italy_sum,\n",
    "                            uk_sum,japan_sum, nz_sum, sweden_sum]}\n",
    "\n",
    "sum_df = pd.DataFrame(data = total)\n",
    "#sum_df.style.format('${:,.2f}')\n",
    "money = pd.merge(sum_df, totals_df, how='outer')\n",
    "money"
   ]
  },
  {
   "cell_type": "code",
   "execution_count": null,
   "metadata": {},
   "outputs": [],
   "source": [
    "x_values = money['Confirmed Cases']\n",
    "y_values = money['Total Spending']\n",
    "(slope, intercept, rvalue, pvalue, stdeer) = linregress(x_values,y_values)\n",
    "regress_values = x_values*slope+intercept\n",
    "line_eq = 'y=' +str(round(slope,2))+'x + ' +str(round(intercept,2))\n",
    "plt.scatter(x_values, y_values)\n",
    "plt.plot(x_values,regress_values,'r-')\n",
    "plt.annotate(line_eq,(15,10),fontsize = 25, color='red')\n",
    "plt.title('Confirmed Cases v Spending')\n",
    "plt.xlabel('Confirmed Cases')\n",
    "plt.ylabel('Spending in Trillion(s) $')\n",
    "plt.show()\n",
    "\n",
    "correlation = st.pearsonr(money['Confirmed Cases'],money['Total Spending'] )\n",
    "correlation"
   ]
  },
  {
   "cell_type": "markdown",
   "metadata": {},
   "source": [
    "Little relationship between countries spending and total cases. Through the Pearson r correlation we can see that there is almost no relationship between spending and case amounts."
   ]
  },
  {
   "cell_type": "code",
   "execution_count": null,
   "metadata": {},
   "outputs": [],
   "source": []
  }
 ],
 "metadata": {
  "kernelspec": {
   "display_name": "PythonDataUPenn",
   "language": "python",
   "name": "pythondataupenn"
  },
  "language_info": {
   "codemirror_mode": {
    "name": "ipython",
    "version": 3
   },
   "file_extension": ".py",
   "mimetype": "text/x-python",
   "name": "python",
   "nbconvert_exporter": "python",
   "pygments_lexer": "ipython3",
   "version": "3.6.10"
  }
 },
 "nbformat": 4,
 "nbformat_minor": 4
}
